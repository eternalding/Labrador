{
 "cells": [
  {
   "cell_type": "code",
   "execution_count": 3,
   "id": "574965ca-d59f-45ca-85de-66eb1264c82f",
   "metadata": {},
   "outputs": [],
   "source": [
    "from labrador.utils.logger import init_logger\n",
    "import logging"
   ]
  },
  {
   "cell_type": "code",
   "execution_count": 2,
   "id": "33b567a0-5b8d-4daa-9d88-1efba28185b6",
   "metadata": {},
   "outputs": [
    {
     "name": "stderr",
     "output_type": "stream",
     "text": [
      "['04/16/2022 04:52:38 PM logger.py:16 - init_logger() ] Logger initialized.\n"
     ]
    }
   ],
   "source": [
    "init_logger()"
   ]
  },
  {
   "cell_type": "code",
   "execution_count": 4,
   "id": "cded4088-92fd-45d8-a29c-aa38e3779767",
   "metadata": {},
   "outputs": [],
   "source": [
    "logger = logging.getLogger(__name__)"
   ]
  },
  {
   "cell_type": "code",
   "execution_count": 5,
   "id": "95eb5c33-eda6-439c-a240-8bea4997244c",
   "metadata": {},
   "outputs": [
    {
     "name": "stderr",
     "output_type": "stream",
     "text": [
      "['04/16/2022 04:54:04 PM 1350278063.py:1 - <cell line: 1>() ] test\n"
     ]
    }
   ],
   "source": [
    "logger.info(\"test\")"
   ]
  },
  {
   "cell_type": "code",
   "execution_count": 2,
   "id": "6e3ca7c3-b818-4802-9de0-8158f9259fcc",
   "metadata": {},
   "outputs": [],
   "source": []
  }
 ],
 "metadata": {
  "kernelspec": {
   "display_name": "Python 3 (ipykernel)",
   "language": "python",
   "name": "python3"
  },
  "language_info": {
   "codemirror_mode": {
    "name": "ipython",
    "version": 3
   },
   "file_extension": ".py",
   "mimetype": "text/x-python",
   "name": "python",
   "nbconvert_exporter": "python",
   "pygments_lexer": "ipython3",
   "version": "3.9.10"
  }
 },
 "nbformat": 4,
 "nbformat_minor": 5
}
