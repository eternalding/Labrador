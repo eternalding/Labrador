{
 "cells": [
  {
   "cell_type": "code",
   "execution_count": 3,
   "id": "574965ca-d59f-45ca-85de-66eb1264c82f",
   "metadata": {},
   "outputs": [],
   "source": [
    "from labrador.utils.logger import init_logger\n",
    "import logging"
   ]
  },
  {
   "cell_type": "markdown",
   "id": "90906802-787b-440b-b024-daae95abb086",
   "metadata": {},
   "source": [
    "### Init logger"
   ]
  },
  {
   "cell_type": "code",
   "execution_count": 6,
   "id": "33b567a0-5b8d-4daa-9d88-1efba28185b6",
   "metadata": {},
   "outputs": [
    {
     "name": "stderr",
     "output_type": "stream",
     "text": [
      "['04/16/2022 04:56:03 PM logger.py:16 - init_logger() ] Logger initialized.\n"
     ]
    }
   ],
   "source": [
    "init_logger()\n",
    "logger = logging.getLogger(__name__)"
   ]
  }
 ],
 "metadata": {
  "kernelspec": {
   "display_name": "Python 3 (ipykernel)",
   "language": "python",
   "name": "python3"
  },
  "language_info": {
   "codemirror_mode": {
    "name": "ipython",
    "version": 3
   },
   "file_extension": ".py",
   "mimetype": "text/x-python",
   "name": "python",
   "nbconvert_exporter": "python",
   "pygments_lexer": "ipython3",
   "version": "3.9.10"
  }
 },
 "nbformat": 4,
 "nbformat_minor": 5
}
