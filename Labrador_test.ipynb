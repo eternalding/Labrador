{
 "cells": [
  {
   "cell_type": "code",
   "execution_count": 37,
   "id": "574965ca-d59f-45ca-85de-66eb1264c82f",
   "metadata": {},
   "outputs": [],
   "source": [
    "from labrador.utils.logger import init_logger\n",
    "import yaml\n",
    "import logging"
   ]
  },
  {
   "cell_type": "markdown",
   "id": "90906802-787b-440b-b024-daae95abb086",
   "metadata": {},
   "source": [
    "### Init logger"
   ]
  },
  {
   "cell_type": "code",
   "execution_count": 7,
   "id": "7cb9174e-03ac-4422-80d1-7260f7e1569f",
   "metadata": {},
   "outputs": [
    {
     "name": "stderr",
     "output_type": "stream",
     "text": [
      "['04/16/2022 08:38:40 PM logger.py:16 - init_logger() ] Logger initialized.\n"
     ]
    }
   ],
   "source": [
    "init_logger()\n",
    "logger = logging.getLogger(__name__)"
   ]
  },
  {
   "cell_type": "markdown",
   "id": "3833fbef-bf54-4cb7-a2f3-b5d34161acbf",
   "metadata": {},
   "source": [
    "### Read .csv.gz file"
   ]
  },
  {
   "cell_type": "code",
   "execution_count": 38,
   "id": "d19b469e-cda6-4af4-88ee-56a8ee39893f",
   "metadata": {},
   "outputs": [],
   "source": [
    "@dataclass\n",
    "class BaseSpec:\n",
    "    required: dict\n",
    "    optional: dict\n",
    "    required_fields: list\n",
    "@dataclass\n",
    "class tmp(BaseSpec):\n",
    "    def __init__(self):\n",
    "        print(self.required)"
   ]
  },
  {
   "cell_type": "code",
   "execution_count": 39,
   "id": "2e42a25e-f505-46a1-8fce-8929b42f2ac8",
   "metadata": {},
   "outputs": [
    {
     "ename": "AttributeError",
     "evalue": "'tmp' object has no attribute 'required'",
     "output_type": "error",
     "traceback": [
      "\u001b[0;31m---------------------------------------------------------------------------\u001b[0m",
      "\u001b[0;31mAttributeError\u001b[0m                            Traceback (most recent call last)",
      "Input \u001b[0;32mIn [39]\u001b[0m, in \u001b[0;36m<cell line: 1>\u001b[0;34m()\u001b[0m\n\u001b[0;32m----> 1\u001b[0m \u001b[43mtmp\u001b[49m\u001b[43m(\u001b[49m\u001b[43m)\u001b[49m\n",
      "Input \u001b[0;32mIn [38]\u001b[0m, in \u001b[0;36mtmp.__init__\u001b[0;34m(self)\u001b[0m\n\u001b[1;32m      8\u001b[0m \u001b[38;5;28;01mdef\u001b[39;00m \u001b[38;5;21m__init__\u001b[39m(\u001b[38;5;28mself\u001b[39m):\n\u001b[0;32m----> 9\u001b[0m     \u001b[38;5;28mprint\u001b[39m(\u001b[38;5;28;43mself\u001b[39;49m\u001b[38;5;241;43m.\u001b[39;49m\u001b[43mrequired\u001b[49m)\n",
      "\u001b[0;31mAttributeError\u001b[0m: 'tmp' object has no attribute 'required'"
     ]
    }
   ],
   "source": [
    "tmp()"
   ]
  },
  {
   "cell_type": "code",
   "execution_count": null,
   "id": "c1788553-53a6-4a05-8d80-9f98d90d154e",
   "metadata": {},
   "outputs": [],
   "source": []
  },
  {
   "cell_type": "code",
   "execution_count": null,
   "id": "a37703dc-1bdf-46cd-8611-062f0a01e57b",
   "metadata": {},
   "outputs": [],
   "source": []
  },
  {
   "cell_type": "code",
   "execution_count": null,
   "id": "ce291242-440a-464a-8bfc-47f058de41ae",
   "metadata": {},
   "outputs": [],
   "source": []
  },
  {
   "cell_type": "code",
   "execution_count": 19,
   "id": "33b567a0-5b8d-4daa-9d88-1efba28185b6",
   "metadata": {},
   "outputs": [],
   "source": [
    "m = Point(5,10)"
   ]
  }
 ],
 "metadata": {
  "kernelspec": {
   "display_name": "Python 3 (ipykernel)",
   "language": "python",
   "name": "python3"
  },
  "language_info": {
   "codemirror_mode": {
    "name": "ipython",
    "version": 3
   },
   "file_extension": ".py",
   "mimetype": "text/x-python",
   "name": "python",
   "nbconvert_exporter": "python",
   "pygments_lexer": "ipython3",
   "version": "3.9.10"
  }
 },
 "nbformat": 4,
 "nbformat_minor": 5
}
