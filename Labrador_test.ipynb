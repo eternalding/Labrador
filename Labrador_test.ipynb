{
 "cells": [
  {
   "cell_type": "code",
   "execution_count": 1,
   "id": "574965ca-d59f-45ca-85de-66eb1264c82f",
   "metadata": {},
   "outputs": [],
   "source": [
    "from labrador.utils.logger import init_logger\n",
    "from labrador.baseclass.experiment import Experiment\n",
    "import yaml\n",
    "import logging\n",
    "import plotly.express as px\n",
    "import numpy as np"
   ]
  },
  {
   "cell_type": "markdown",
   "id": "90906802-787b-440b-b024-daae95abb086",
   "metadata": {},
   "source": [
    "### Init logger"
   ]
  },
  {
   "cell_type": "code",
   "execution_count": 2,
   "id": "7cb9174e-03ac-4422-80d1-7260f7e1569f",
   "metadata": {},
   "outputs": [
    {
     "name": "stderr",
     "output_type": "stream",
     "text": [
      "[INFO] 2022/04/18 11:27:31 PM, at logger.py:16 - init_logger()\n",
      "Logger initialized.\n"
     ]
    }
   ],
   "source": [
    "init_logger()\n",
    "logger = logging.getLogger(__name__)"
   ]
  },
  {
   "cell_type": "markdown",
   "id": "3833fbef-bf54-4cb7-a2f3-b5d34161acbf",
   "metadata": {},
   "source": [
    "### Read configuration"
   ]
  },
  {
   "cell_type": "code",
   "execution_count": 3,
   "id": "8804d6d5-46e5-4bed-9fdf-225218f53c67",
   "metadata": {},
   "outputs": [],
   "source": [
    "with open(\"configs/3DIV.yaml\", 'r') as fp:\n",
    "    configs = yaml.safe_load(fp)"
   ]
  },
  {
   "cell_type": "markdown",
   "id": "4528392c-3f7e-4237-a325-b693cdd7fa8e",
   "metadata": {},
   "source": [
    "### Read 3DIV data"
   ]
  },
  {
   "cell_type": "code",
   "execution_count": 4,
   "id": "b689c732-9a71-4ebf-b859-ee74fb49326b",
   "metadata": {},
   "outputs": [
    {
     "name": "stderr",
     "output_type": "stream",
     "text": [
      "[INFO] 2022/04/18 11:27:31 PM, at delimited.py:22 - read_delimited_file()\n",
      "Now loading Hi-C dataset:\n",
      "144it [00:07, 19.87it/s]\n",
      "[INFO] 2022/04/18 11:27:39 PM, at delimited.py:25 - read_delimited_file()\n",
      "Target dataframe /mnt/s/workspace/hic_datasets/H1_ESCs_control.chr22.distnorm.scale2.gz loaded. Top 5 records:    idx    chr      bin1      bin2   RawCount  RawCount.1  CapturabilityOne  \\\n",
      "0    1  chr22  10735000  10755000   3.139353    3.139353          212.2392   \n",
      "1    2  chr22  10735000  10775000  11.550503   11.550503          245.4887   \n",
      "2    3  chr22  10735000  10780000  11.447764   11.447764          242.1437   \n",
      "3    4  chr22  10735000  10930000   2.000989    2.000989          245.4887   \n",
      "4    5  chr22  10735000  10935000   2.874049    2.874049          512.6792   \n",
      "\n",
      "   CapturabilityTwo  Distance  all_exp  all_capture_res  exp_value_dist  \\\n",
      "0          245.4887     20000   0.2736          11.4742         17.2554   \n",
      "1          213.6437     40000   0.2750          42.0018          9.1734   \n",
      "2          245.4887     45000   0.3030          37.7814          8.2396   \n",
      "3          374.9237    195000   0.4250           4.7082          2.1649   \n",
      "4          245.4887    200000   0.5411           5.3115          2.1155   \n",
      "\n",
      "   dist_foldchange  rescaled_intensity  \n",
      "0           0.6835           10.505656  \n",
      "1           4.2235           38.225687  \n",
      "2           4.1936           34.393430  \n",
      "3           1.8009            4.361913  \n",
      "4           2.0223            4.909728  \n",
      "[INFO] 2022/04/18 11:27:39 PM, at delimited.py:29 - read_delimited_file()\n",
      "chrom1_field is the same as chrom2_field. Treated as intra-chromosomal data.\n",
      "[INFO] 2022/04/18 11:27:39 PM, at delimited.py:39 - read_delimited_file()\n",
      "Drop na records:\n",
      "[INFO] 2022/04/18 11:27:39 PM, at delimited.py:42 - read_delimited_file()\n",
      "Total records: 2358177\n"
     ]
    }
   ],
   "source": [
    "HiC_exp = Experiment(configs)\n",
    "HiC_exp.read_file()"
   ]
  },
  {
   "cell_type": "markdown",
   "id": "6c0fa515-a639-4264-80c1-f1dc9c98e320",
   "metadata": {},
   "source": [
    "### Plot contact map"
   ]
  },
  {
   "cell_type": "code",
   "execution_count": 10,
   "id": "069f62ca-9fa9-4971-9eb4-f1a9e566b205",
   "metadata": {},
   "outputs": [],
   "source": [
    "CHROM = 'chr22'\n",
    "START = 30_000_000\n",
    "END   = 40_000_000\n",
    "WIDTH = 800\n",
    "HEIGHT = 800\n",
    "RANGE_COLOR = (0, 20)\n",
    "VALUE_TYPE = \"RawCount\"\n",
    "dense_arr = HiC_exp.query(CHROM, START, END, VALUE_TYPE, to_symmetric=True)"
   ]
  },
  {
   "cell_type": "code",
   "execution_count": 11,
   "id": "78217dea-c76a-4ab3-aad9-97e95e0ee10c",
   "metadata": {},
   "outputs": [
    {
     "data": {
      "application/vnd.jupyter.widget-view+json": {
       "model_id": "a7b1f2e89a1e438c958f7c65c5f38229",
       "version_major": 2,
       "version_minor": 0
      },
      "text/plain": [
       "VBox(children=(FigureWidget({\n",
       "    'data': [{'coloraxis': 'coloraxis',\n",
       "              'hovertemplate': 'x: %{x}<…"
      ]
     },
     "metadata": {},
     "output_type": "display_data"
    }
   ],
   "source": [
    "fig = HiC_exp.interactive_plot(CHROM, START, END, VALUE_TYPE, \n",
    "                               range_color = RANGE_COLOR, width = WIDTH, height = HEIGHT, to_symmetric = True)\n",
    "fig"
   ]
  },
  {
   "cell_type": "markdown",
   "id": "f20d19c1-ca85-4079-b871-ca305719abb0",
   "metadata": {},
   "source": [
    "### ICE normalization"
   ]
  },
  {
   "cell_type": "code",
   "execution_count": 7,
   "id": "e9568b82-07ef-462f-9764-57a03862f293",
   "metadata": {},
   "outputs": [
    {
     "name": "stderr",
     "output_type": "stream",
     "text": [
      "[INFO] 2022/04/18 11:27:47 PM, at sparsemat.py:66 -  normalize()\n",
      "Normalize RawCount with ICE normalization.\n",
      "[INFO] 2022/04/18 11:27:47 PM, at ice.py:19 - ICE_normalization()\n",
      "Perform ICE normalization.\n",
      "[INFO] 2022/04/18 11:27:50 PM, at ice.py:50 - ICE_normalization()\n",
      "Iteration 4: Bias difference = 723.9556739901606\n",
      "[INFO] 2022/04/18 11:27:53 PM, at ice.py:50 - ICE_normalization()\n",
      "Iteration 9: Bias difference = 516.5077896392984\n",
      "[INFO] 2022/04/18 11:27:56 PM, at ice.py:50 - ICE_normalization()\n",
      "Iteration 14: Bias difference = 445.67732832692616\n",
      "[INFO] 2022/04/18 11:27:59 PM, at ice.py:50 - ICE_normalization()\n",
      "Iteration 19: Bias difference = 391.7879261726621\n",
      "[INFO] 2022/04/18 11:28:02 PM, at ice.py:50 - ICE_normalization()\n",
      "Iteration 24: Bias difference = 314.94286383089843\n",
      "[INFO] 2022/04/18 11:28:05 PM, at ice.py:50 - ICE_normalization()\n",
      "Iteration 29: Bias difference = 286.4205295735544\n",
      "[INFO] 2022/04/18 11:28:08 PM, at ice.py:50 - ICE_normalization()\n",
      "Iteration 34: Bias difference = 240.98524792505816\n",
      "[INFO] 2022/04/18 11:28:11 PM, at ice.py:50 - ICE_normalization()\n",
      "Iteration 39: Bias difference = 195.32566746214974\n",
      "[INFO] 2022/04/18 11:28:14 PM, at ice.py:50 - ICE_normalization()\n",
      "Iteration 44: Bias difference = 149.88754885685708\n",
      "[INFO] 2022/04/18 11:28:17 PM, at ice.py:50 - ICE_normalization()\n",
      "Iteration 49: Bias difference = 120.4196913428384\n",
      "[INFO] 2022/04/18 11:28:20 PM, at ice.py:50 - ICE_normalization()\n",
      "Iteration 54: Bias difference = 96.75768569663637\n",
      "[INFO] 2022/04/18 11:28:23 PM, at ice.py:50 - ICE_normalization()\n",
      "Iteration 59: Bias difference = 88.210695593194\n",
      "[INFO] 2022/04/18 11:28:26 PM, at ice.py:50 - ICE_normalization()\n",
      "Iteration 64: Bias difference = 80.2034401786063\n",
      "[INFO] 2022/04/18 11:28:29 PM, at ice.py:50 - ICE_normalization()\n",
      "Iteration 69: Bias difference = 76.1905468691491\n",
      "[INFO] 2022/04/18 11:28:32 PM, at ice.py:50 - ICE_normalization()\n",
      "Iteration 74: Bias difference = 57.481418675415\n",
      "[INFO] 2022/04/18 11:28:35 PM, at ice.py:50 - ICE_normalization()\n",
      "Iteration 79: Bias difference = 42.06126073523101\n",
      "[INFO] 2022/04/18 11:28:38 PM, at ice.py:50 - ICE_normalization()\n",
      "Iteration 84: Bias difference = 30.114251804616497\n",
      "[INFO] 2022/04/18 11:28:41 PM, at ice.py:50 - ICE_normalization()\n",
      "Iteration 89: Bias difference = 23.72669839470008\n",
      "[INFO] 2022/04/18 11:28:44 PM, at ice.py:50 - ICE_normalization()\n",
      "Iteration 94: Bias difference = 22.878527324786845\n",
      "[INFO] 2022/04/18 11:28:47 PM, at ice.py:50 - ICE_normalization()\n",
      "Iteration 99: Bias difference = 22.522087118653385\n",
      "[INFO] 2022/04/18 11:28:50 PM, at ice.py:50 - ICE_normalization()\n",
      "Iteration 104: Bias difference = 20.14598954674078\n",
      "[INFO] 2022/04/18 11:28:53 PM, at ice.py:50 - ICE_normalization()\n",
      "Iteration 109: Bias difference = 16.83511765443389\n",
      "[INFO] 2022/04/18 11:28:56 PM, at ice.py:50 - ICE_normalization()\n",
      "Iteration 114: Bias difference = 13.793287268083443\n",
      "[INFO] 2022/04/18 11:28:59 PM, at ice.py:50 - ICE_normalization()\n",
      "Iteration 119: Bias difference = 11.316499490607038\n",
      "[INFO] 2022/04/18 11:29:02 PM, at ice.py:50 - ICE_normalization()\n",
      "Iteration 124: Bias difference = 9.327456150571305\n",
      "[INFO] 2022/04/18 11:29:05 PM, at ice.py:50 - ICE_normalization()\n",
      "Iteration 129: Bias difference = 8.503968073282612\n",
      "[INFO] 2022/04/18 11:29:08 PM, at ice.py:50 - ICE_normalization()\n",
      "Iteration 134: Bias difference = 8.458006271651618\n",
      "[INFO] 2022/04/18 11:29:11 PM, at ice.py:50 - ICE_normalization()\n",
      "Iteration 139: Bias difference = 8.006824551626497\n",
      "[INFO] 2022/04/18 11:29:14 PM, at ice.py:50 - ICE_normalization()\n",
      "Iteration 144: Bias difference = 6.884982352522977\n",
      "[INFO] 2022/04/18 11:29:17 PM, at ice.py:50 - ICE_normalization()\n",
      "Iteration 149: Bias difference = 5.353312417649762\n",
      "[INFO] 2022/04/18 11:29:20 PM, at ice.py:50 - ICE_normalization()\n",
      "Iteration 154: Bias difference = 4.119625909264558\n",
      "[INFO] 2022/04/18 11:29:23 PM, at ice.py:50 - ICE_normalization()\n",
      "Iteration 159: Bias difference = 3.254875959695344\n",
      "[INFO] 2022/04/18 11:29:26 PM, at ice.py:50 - ICE_normalization()\n",
      "Iteration 164: Bias difference = 2.9327860988567322\n",
      "[INFO] 2022/04/18 11:29:29 PM, at ice.py:50 - ICE_normalization()\n",
      "Iteration 169: Bias difference = 2.9238313047145965\n",
      "[INFO] 2022/04/18 11:29:32 PM, at ice.py:50 - ICE_normalization()\n",
      "Iteration 174: Bias difference = 2.7252326207033564\n",
      "[INFO] 2022/04/18 11:29:35 PM, at ice.py:50 - ICE_normalization()\n",
      "Iteration 179: Bias difference = 2.299486509601321\n",
      "[INFO] 2022/04/18 11:29:38 PM, at ice.py:50 - ICE_normalization()\n",
      "Iteration 184: Bias difference = 1.8027115368312017\n",
      "[INFO] 2022/04/18 11:29:41 PM, at ice.py:50 - ICE_normalization()\n",
      "Iteration 189: Bias difference = 1.424549352918517\n",
      "[INFO] 2022/04/18 11:29:44 PM, at ice.py:50 - ICE_normalization()\n",
      "Iteration 194: Bias difference = 1.1532442713259252\n",
      "[INFO] 2022/04/18 11:29:47 PM, at ice.py:50 - ICE_normalization()\n",
      "Iteration 199: Bias difference = 1.0181532547779302\n",
      "[INFO] 2022/04/18 11:29:50 PM, at ice.py:50 - ICE_normalization()\n",
      "Iteration 204: Bias difference = 1.022241985474373\n",
      "[INFO] 2022/04/18 11:29:53 PM, at ice.py:50 - ICE_normalization()\n",
      "Iteration 209: Bias difference = 0.9768131320405988\n",
      "[INFO] 2022/04/18 11:29:57 PM, at ice.py:50 - ICE_normalization()\n",
      "Iteration 214: Bias difference = 0.8524503629977582\n",
      "[INFO] 2022/04/18 11:30:00 PM, at ice.py:50 - ICE_normalization()\n",
      "Iteration 219: Bias difference = 0.681857658195139\n",
      "[INFO] 2022/04/18 11:30:03 PM, at ice.py:50 - ICE_normalization()\n",
      "Iteration 224: Bias difference = 0.5329864760075638\n",
      "[INFO] 2022/04/18 11:30:06 PM, at ice.py:50 - ICE_normalization()\n",
      "Iteration 229: Bias difference = 0.4262481265082385\n",
      "[INFO] 2022/04/18 11:30:09 PM, at ice.py:50 - ICE_normalization()\n",
      "Iteration 234: Bias difference = 0.367352667849361\n",
      "[INFO] 2022/04/18 11:30:12 PM, at ice.py:50 - ICE_normalization()\n",
      "Iteration 239: Bias difference = 0.3663594481934176\n",
      "[INFO] 2022/04/18 11:30:15 PM, at ice.py:50 - ICE_normalization()\n",
      "Iteration 244: Bias difference = 0.35090288181590884\n",
      "[INFO] 2022/04/18 11:30:18 PM, at ice.py:50 - ICE_normalization()\n",
      "Iteration 249: Bias difference = 0.3051790755950583\n",
      "[INFO] 2022/04/18 11:30:21 PM, at ice.py:50 - ICE_normalization()\n",
      "Iteration 254: Bias difference = 0.24237580084245938\n",
      "[INFO] 2022/04/18 11:30:24 PM, at ice.py:50 - ICE_normalization()\n",
      "Iteration 259: Bias difference = 0.18827809420456054\n",
      "[INFO] 2022/04/18 11:30:27 PM, at ice.py:50 - ICE_normalization()\n",
      "Iteration 264: Bias difference = 0.15056910015511338\n",
      "[INFO] 2022/04/18 11:30:30 PM, at ice.py:50 - ICE_normalization()\n",
      "Iteration 269: Bias difference = 0.12755290967787208\n",
      "[INFO] 2022/04/18 11:30:33 PM, at ice.py:50 - ICE_normalization()\n",
      "Iteration 274: Bias difference = 0.12703815152146414\n",
      "[INFO] 2022/04/18 11:30:36 PM, at ice.py:50 - ICE_normalization()\n",
      "Iteration 279: Bias difference = 0.12327248757253778\n",
      "[INFO] 2022/04/18 11:30:39 PM, at ice.py:50 - ICE_normalization()\n",
      "Iteration 284: Bias difference = 0.10878547667939295\n",
      "[INFO] 2022/04/18 11:30:43 PM, at ice.py:50 - ICE_normalization()\n",
      "Iteration 289: Bias difference = 0.08812934136143721\n",
      "[INFO] 2022/04/18 11:30:46 PM, at ice.py:50 - ICE_normalization()\n",
      "Iteration 294: Bias difference = 0.06888304281927538\n",
      "[INFO] 2022/04/18 11:30:49 PM, at ice.py:50 - ICE_normalization()\n",
      "Iteration 299: Bias difference = 0.05504031998988474\n",
      "[INFO] 2022/04/18 11:30:50 PM, at sparsemat.py:70 -  normalize()\n",
      "Normalization is done. Value is stored in matrices[ICE]\n"
     ]
    }
   ],
   "source": [
    "HiC_exp.sparse_mats['chr22'].normalize(method=\"ICE\", norm_by_value=\"RawCount\", max_iter = 300)"
   ]
  },
  {
   "cell_type": "code",
   "execution_count": 12,
   "id": "d3adc6c5-a06b-494b-9b1a-f4dab84bfd67",
   "metadata": {},
   "outputs": [
    {
     "data": {
      "application/vnd.jupyter.widget-view+json": {
       "model_id": "da983d22781748c6b15b1ac31d39ff70",
       "version_major": 2,
       "version_minor": 0
      },
      "text/plain": [
       "VBox(children=(FigureWidget({\n",
       "    'data': [{'coloraxis': 'coloraxis',\n",
       "              'hovertemplate': 'x: %{x}<…"
      ]
     },
     "metadata": {},
     "output_type": "display_data"
    }
   ],
   "source": [
    "fig = HiC_exp.interactive_plot(CHROM, START, END, \"ICE\", \n",
    "                               range_color = (0, 300), width = WIDTH, height = HEIGHT, to_symmetric = True)\n",
    "fig"
   ]
  },
  {
   "cell_type": "code",
   "execution_count": null,
   "id": "94158bfe-ba27-437b-9c07-ffb11725c719",
   "metadata": {},
   "outputs": [],
   "source": []
  },
  {
   "cell_type": "code",
   "execution_count": null,
   "id": "ce291242-440a-464a-8bfc-47f058de41ae",
   "metadata": {},
   "outputs": [],
   "source": [
    "##"
   ]
  }
 ],
 "metadata": {
  "kernelspec": {
   "display_name": "Python 3 (ipykernel)",
   "language": "python",
   "name": "python3"
  },
  "language_info": {
   "codemirror_mode": {
    "name": "ipython",
    "version": 3
   },
   "file_extension": ".py",
   "mimetype": "text/x-python",
   "name": "python",
   "nbconvert_exporter": "python",
   "pygments_lexer": "ipython3",
   "version": "3.9.10"
  }
 },
 "nbformat": 4,
 "nbformat_minor": 5
}
