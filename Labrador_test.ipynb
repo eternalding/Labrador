{
 "cells": [
  {
   "cell_type": "code",
   "execution_count": 1,
   "id": "574965ca-d59f-45ca-85de-66eb1264c82f",
   "metadata": {},
   "outputs": [],
   "source": [
    "from labrador.utils.logger import init_logger\n",
    "from labrador.baseclass.experiment import Experiment\n",
    "import yaml\n",
    "import logging\n",
    "import plotly.express as px\n",
    "import numpy as np"
   ]
  },
  {
   "cell_type": "markdown",
   "id": "90906802-787b-440b-b024-daae95abb086",
   "metadata": {},
   "source": [
    "### Init logger"
   ]
  },
  {
   "cell_type": "code",
   "execution_count": 2,
   "id": "7cb9174e-03ac-4422-80d1-7260f7e1569f",
   "metadata": {},
   "outputs": [
    {
     "name": "stderr",
     "output_type": "stream",
     "text": [
      "[INFO] 2022/04/17 10:49:52 PM, at logger.py:16 - init_logger()\n",
      "Logger initialized.\n"
     ]
    }
   ],
   "source": [
    "init_logger()\n",
    "logger = logging.getLogger(__name__)"
   ]
  },
  {
   "cell_type": "markdown",
   "id": "3833fbef-bf54-4cb7-a2f3-b5d34161acbf",
   "metadata": {},
   "source": [
    "### Read configuration"
   ]
  },
  {
   "cell_type": "code",
   "execution_count": 3,
   "id": "8804d6d5-46e5-4bed-9fdf-225218f53c67",
   "metadata": {},
   "outputs": [],
   "source": [
    "with open(\"configs/3DIV.yaml\", 'r') as fp:\n",
    "    configs = yaml.safe_load(fp)"
   ]
  },
  {
   "cell_type": "markdown",
   "id": "4528392c-3f7e-4237-a325-b693cdd7fa8e",
   "metadata": {},
   "source": [
    "### Read 3DIV data"
   ]
  },
  {
   "cell_type": "code",
   "execution_count": 4,
   "id": "b689c732-9a71-4ebf-b859-ee74fb49326b",
   "metadata": {},
   "outputs": [
    {
     "name": "stderr",
     "output_type": "stream",
     "text": [
      "[INFO] 2022/04/17 10:49:52 PM, at delimited.py:22 - read_delimited_file()\n",
      "Now loading Hi-C dataset:\n",
      "144it [00:06, 22.71it/s]\n",
      "[INFO] 2022/04/17 10:49:59 PM, at delimited.py:25 - read_delimited_file()\n",
      "Target dataframe /mnt/s/workspace/hic_datasets/H1_ESCs_control.chr22.distnorm.scale2.gz loaded. Top 5 records:    idx    chr      bin1      bin2   RawCount  RawCount.1  CapturabilityOne  \\\n",
      "0    1  chr22  10735000  10755000   3.139353    3.139353          212.2392   \n",
      "1    2  chr22  10735000  10775000  11.550503   11.550503          245.4887   \n",
      "2    3  chr22  10735000  10780000  11.447764   11.447764          242.1437   \n",
      "3    4  chr22  10735000  10930000   2.000989    2.000989          245.4887   \n",
      "4    5  chr22  10735000  10935000   2.874049    2.874049          512.6792   \n",
      "\n",
      "   CapturabilityTwo  Distance  all_exp  all_capture_res  exp_value_dist  \\\n",
      "0          245.4887     20000   0.2736          11.4742         17.2554   \n",
      "1          213.6437     40000   0.2750          42.0018          9.1734   \n",
      "2          245.4887     45000   0.3030          37.7814          8.2396   \n",
      "3          374.9237    195000   0.4250           4.7082          2.1649   \n",
      "4          245.4887    200000   0.5411           5.3115          2.1155   \n",
      "\n",
      "   dist_foldchange  rescaled_intensity  \n",
      "0           0.6835           10.505656  \n",
      "1           4.2235           38.225687  \n",
      "2           4.1936           34.393430  \n",
      "3           1.8009            4.361913  \n",
      "4           2.0223            4.909728  \n",
      "[INFO] 2022/04/17 10:49:59 PM, at delimited.py:29 - read_delimited_file()\n",
      "chrom1_field is the same as chrom2_field. Treated as intra-chromosomal data.\n",
      "[INFO] 2022/04/17 10:49:59 PM, at delimited.py:39 - read_delimited_file()\n",
      "Drop na records:\n",
      "[INFO] 2022/04/17 10:49:59 PM, at delimited.py:42 - read_delimited_file()\n",
      "Total records: 2358177\n"
     ]
    }
   ],
   "source": [
    "HiC_exp = Experiment(configs)\n",
    "HiC_exp.read_file()"
   ]
  },
  {
   "cell_type": "markdown",
   "id": "6c0fa515-a639-4264-80c1-f1dc9c98e320",
   "metadata": {},
   "source": [
    "### Plot contact map"
   ]
  },
  {
   "cell_type": "code",
   "execution_count": 5,
   "id": "069f62ca-9fa9-4971-9eb4-f1a9e566b205",
   "metadata": {},
   "outputs": [],
   "source": [
    "CHROM = 'chr22'\n",
    "START = 32_000_000\n",
    "END   = 34_000_000\n",
    "WIDTH = 800\n",
    "HEIGHT = 800\n",
    "RANGE_COLOR = (0, 20)\n",
    "VALUE_TYPE = \"RawCount\"\n",
    "dense_arr = HiC_exp.query(CHROM, START, END, VALUE_TYPE, to_symmetric=True)"
   ]
  },
  {
   "cell_type": "code",
   "execution_count": 6,
   "id": "78217dea-c76a-4ab3-aad9-97e95e0ee10c",
   "metadata": {},
   "outputs": [
    {
     "data": {
      "application/vnd.jupyter.widget-view+json": {
       "model_id": "009390ae80634cc5beb74997a80b5600",
       "version_major": 2,
       "version_minor": 0
      },
      "text/plain": [
       "VBox(children=(FigureWidget({\n",
       "    'data': [{'coloraxis': 'coloraxis',\n",
       "              'hovertemplate': 'x: %{x}<…"
      ]
     },
     "metadata": {},
     "output_type": "display_data"
    }
   ],
   "source": [
    "fig = HiC_exp.interactive_plot(CHROM, START, END, VALUE_TYPE, \n",
    "                               range_color = RANGE_COLOR, width = WIDTH, height = HEIGHT, to_symmetric = True)\n",
    "fig"
   ]
  },
  {
   "cell_type": "code",
   "execution_count": null,
   "id": "ce291242-440a-464a-8bfc-47f058de41ae",
   "metadata": {},
   "outputs": [],
   "source": []
  }
 ],
 "metadata": {
  "kernelspec": {
   "display_name": "Python 3 (ipykernel)",
   "language": "python",
   "name": "python3"
  },
  "language_info": {
   "codemirror_mode": {
    "name": "ipython",
    "version": 3
   },
   "file_extension": ".py",
   "mimetype": "text/x-python",
   "name": "python",
   "nbconvert_exporter": "python",
   "pygments_lexer": "ipython3",
   "version": "3.9.10"
  }
 },
 "nbformat": 4,
 "nbformat_minor": 5
}
